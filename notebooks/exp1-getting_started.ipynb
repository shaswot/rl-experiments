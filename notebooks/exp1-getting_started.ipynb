{
 "cells": [
  {
   "cell_type": "markdown",
   "id": "115ca251-6eb7-4a18-aa6a-06ac41b20011",
   "metadata": {},
   "source": [
    "#### Objectives\n",
    "- Check the Python Version\n",
    "- Check the PyTorch Version\n",
    "- Check if PyTorch has GPU access\n",
    "- Set up the Project Root Directory\n",
    "- Import a library"
   ]
  },
  {
   "cell_type": "markdown",
   "id": "ab7e6a9b-cca2-41c2-ba32-cd1695da6c62",
   "metadata": {},
   "source": [
    "#### Checking the Python Version"
   ]
  },
  {
   "cell_type": "code",
   "execution_count": 1,
   "id": "e71086a9-d1aa-4e48-8b57-746bef7f159b",
   "metadata": {},
   "outputs": [
    {
     "name": "stdout",
     "output_type": "stream",
     "text": [
      "Python  3.10.12 (main, Jul 29 2024, 16:56:48) [GCC 11.4.0]\n"
     ]
    }
   ],
   "source": [
    "import sys\n",
    "print(\"Python \", sys.version)"
   ]
  },
  {
   "cell_type": "markdown",
   "id": "d8e1fd1e-4b05-48ee-8d27-23a0a38120b0",
   "metadata": {},
   "source": [
    "#### Checking PyTorch Version"
   ]
  },
  {
   "cell_type": "code",
   "execution_count": 2,
   "id": "21e6b51e-f9be-46d5-aa58-0e63badc3c95",
   "metadata": {},
   "outputs": [
    {
     "name": "stdout",
     "output_type": "stream",
     "text": [
      "Using PyTorch version: 2.4.0+cu124\n"
     ]
    }
   ],
   "source": [
    "import torch\n",
    "print(f\"Using PyTorch version: {torch.__version__}\")"
   ]
  },
  {
   "cell_type": "markdown",
   "id": "c39a9ad8-e077-4905-aab1-5cde9bd71a0d",
   "metadata": {},
   "source": [
    "#### Checking GPU access"
   ]
  },
  {
   "cell_type": "code",
   "execution_count": 3,
   "id": "348b39e0-2907-4625-a776-83c211b4d625",
   "metadata": {},
   "outputs": [
    {
     "name": "stdout",
     "output_type": "stream",
     "text": [
      "Using device: cuda\n",
      "NVIDIA GeForce RTX 4090\n"
     ]
    }
   ],
   "source": [
    "# setting device on GPU if available, else CPU\n",
    "device = torch.device('cuda' if torch.cuda.is_available() else 'cpu')\n",
    "print('Using device:', device)\n",
    "# Additional Info when using cuda\n",
    "if device.type == 'cuda':\n",
    "    print(torch.cuda.get_device_name(0))"
   ]
  },
  {
   "cell_type": "markdown",
   "id": "9e662695-cc98-4a90-bfa9-1ea0563c35fc",
   "metadata": {},
   "source": [
    "#### Boilerplate code to set up the project root directory"
   ]
  },
  {
   "cell_type": "code",
   "execution_count": 4,
   "id": "aeee9a3b-92ff-4983-a3a1-899ad99ed204",
   "metadata": {},
   "outputs": [
    {
     "name": "stdout",
     "output_type": "stream",
     "text": [
      "Project Root Directory:  /repos/rl-experiments\n"
     ]
    }
   ],
   "source": [
    "import sys\n",
    "import git\n",
    "import pathlib\n",
    "\n",
    "# Set up the PROJ_ROOT variable\n",
    "PROJ_ROOT_PATH = pathlib.Path(git.Repo('.', search_parent_directories=True).working_tree_dir)\n",
    "PROJ_ROOT =  str(PROJ_ROOT_PATH)\n",
    "if PROJ_ROOT not in sys.path:\n",
    "    sys.path.append(PROJ_ROOT)\n",
    "\n",
    "print(\"Project Root Directory: \",PROJ_ROOT)"
   ]
  },
  {
   "cell_type": "markdown",
   "id": "f7adafa8-67c1-47ac-94f0-74e3068b049e",
   "metadata": {},
   "source": [
    "#### Import a library function to create and view seeds"
   ]
  },
  {
   "cell_type": "code",
   "execution_count": null,
   "id": "37311316-f499-4ddb-8f33-854339a85d44",
   "metadata": {},
   "outputs": [],
   "source": [
    "from library.seeds import generate_seeds, load_model_seeds\n",
    "\n",
    "# Generate seeds\n",
    "seeds_file = generate_seeds(root_seed=3255, no_of_seeds=7)\n",
    "\n",
    "# Load seeds\n",
    "seeds = load_model_seeds(seeds_file)\n",
    "print(seeds)"
   ]
  },
  {
   "cell_type": "code",
   "execution_count": null,
   "id": "87b619b8-857e-42e8-b484-e234fdadea04",
   "metadata": {},
   "outputs": [],
   "source": []
  }
 ],
 "metadata": {
  "kernelspec": {
   "display_name": "Python 3 (ipykernel)",
   "language": "python",
   "name": "python3"
  },
  "language_info": {
   "codemirror_mode": {
    "name": "ipython",
    "version": 3
   },
   "file_extension": ".py",
   "mimetype": "text/x-python",
   "name": "python",
   "nbconvert_exporter": "python",
   "pygments_lexer": "ipython3",
   "version": "3.10.12"
  }
 },
 "nbformat": 4,
 "nbformat_minor": 5
}
